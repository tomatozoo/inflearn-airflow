{
 "cells": [
  {
   "cell_type": "code",
   "execution_count": 2,
   "metadata": {},
   "outputs": [
    {
     "name": "stdout",
     "output_type": "stream",
     "text": [
      "현재시간\n",
      "2025-05-07 00:00:00\n",
      "2025-01-07 00:00:00\n",
      "2025-01-07 00:00:00\n",
      "2025-04-07 00:00:00\n",
      "2025-05-01 00:00:00\n",
      "2025-05-01 00:00:00\n",
      "2025-05-06 00:00:00\n"
     ]
    }
   ],
   "source": [
    "from datetime import datetime\n",
    "from dateutil import relativedelta\n",
    "\n",
    "now = datetime(year=2025, month=5, day=7)\n",
    "print('현재시간\\n'+str(now))\n",
    "\n",
    "# 1월로 변경\n",
    "print(now+relativedelta.relativedelta(month=1))\n",
    "print(now.replace(month=1))\n",
    "\n",
    "# 1개월 빼기\n",
    "print(now+relativedelta.relativedelta(months=-1))\n",
    "# 1일로 변경\n",
    "print(now+relativedelta.relativedelta(day=1))\n",
    "print(now.replace(day=1))\n",
    "print(now+relativedelta.relativedelta(days=-1))\n"
   ]
  },
  {
   "cell_type": "markdown",
   "metadata": {
    "vscode": {
     "languageId": "plaintext"
    }
   },
   "source": [
    "from datetime "
   ]
  }
 ],
 "metadata": {
  "kernelspec": {
   "display_name": "venv310",
   "language": "python",
   "name": "python3"
  },
  "language_info": {
   "codemirror_mode": {
    "name": "ipython",
    "version": 3
   },
   "file_extension": ".py",
   "mimetype": "text/x-python",
   "name": "python",
   "nbconvert_exporter": "python",
   "pygments_lexer": "ipython3",
   "version": "3.10.17"
  }
 },
 "nbformat": 4,
 "nbformat_minor": 2
}
